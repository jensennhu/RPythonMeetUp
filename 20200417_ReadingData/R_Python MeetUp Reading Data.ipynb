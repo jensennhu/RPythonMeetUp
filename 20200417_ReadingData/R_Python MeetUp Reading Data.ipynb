{
 "cells": [
  {
   "cell_type": "code",
   "execution_count": null,
   "metadata": {},
   "outputs": [],
   "source": [
    "import pandas as pd\n",
    "\n",
    "#reading in CSV data, \"r\" before filepath to address special char\n",
    "data_csv=pd.read_csv(r\"insert filepath\")\n",
    "data_csv.head()"
   ]
  },
  {
   "cell_type": "code",
   "execution_count": null,
   "metadata": {},
   "outputs": [],
   "source": [
    "#reading in xlsx data, \"r\" placement, and specify sheet_name\n",
    "data_xlsx=pd.read_excel(r\"insert filepath\", sheet_name=\"CSPIP Schools\")\n",
    "data_xlsx.head()"
   ]
  },
  {
   "cell_type": "code",
   "execution_count": null,
   "metadata": {},
   "outputs": [],
   "source": [
    "#From nytimes github\n",
    "data_github=pd.read_csv(\"https://raw.githubusercontent.com/nytimes/covid-19-data/master/us.csv\")\n",
    "data_github.head()"
   ]
  },
  {
   "cell_type": "code",
   "execution_count": null,
   "metadata": {},
   "outputs": [],
   "source": [
    "#From nys JSON endpoint, limit default=1000, adjust w/\"$limit=__\"\n",
    "data_json=pd.read_json(\"https://health.data.ny.gov/resource/xdss-u53e.json?$limit=5000\")\n",
    "data_json.head()"
   ]
  }
 ],
 "metadata": {
  "kernelspec": {
   "display_name": "Python 3",
   "language": "python",
   "name": "python3"
  },
  "language_info": {
   "codemirror_mode": {
    "name": "ipython",
    "version": 3
   },
   "file_extension": ".py",
   "mimetype": "text/x-python",
   "name": "python",
   "nbconvert_exporter": "python",
   "pygments_lexer": "ipython3",
   "version": "3.6.5"
  }
 },
 "nbformat": 4,
 "nbformat_minor": 2
}
